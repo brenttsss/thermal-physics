{
 "cells": [
  {
   "cell_type": "code",
   "id": "initial_id",
   "metadata": {
    "collapsed": true,
    "ExecuteTime": {
    }
   },
   "source": [
    "import numpy as np\n",
    "import matplotlib.pyplot as plt"
   ],
   "outputs": [],
  },
  {
   "metadata": {},
   "cell_type": "markdown",
   "source": [
    "**WPS Question 5(c)**\n",
    "\n",
    "Given $q=6$ with probabilities given by:\n",
    "\\begin{equation}\n",
    "\\frac{10}{11}, \\frac{10}{11}, \\frac{9}{11},\\frac{8}{11}, \\frac{7}{11}, \\frac{6}{11},\\frac{5}{11},\\frac{4}{11},\\frac{3}{11},\\frac{2}{11},\\frac{1}{11},\\frac{1}{11}.\n",
    "\\end{equation}\n",
    "We seek to plot the probabilities."
   ],
   "id": "a62f7237c216abdc"
  },
  {
   "metadata": {
    "ExecuteTime": {
    }
   },
   "cell_type": "code",
   "source": "probs = np.array([10/11, 10/11, 9/11, 8/11, 7/11, 6/11, 5/11, 4/11, 3/11, 2/11, 1/11, 1/11])",
   "id": "1f5c6dda4e365db3",
   "outputs": [],
  },
  {
   "metadata": {
    "ExecuteTime": {
    }
   },
   "cell_type": "code",
   "source": [
    "import numpy as np\n",
    "import matplotlib.pyplot as plt\n",
    "\n",
    "# Given probabilities\n",
    "probs = np.array([11/11, 11/11, 11/11, 11/11, 10/11, 10/11, 9/11, 8/11, 7/11, 6/11, 5/11, 4/11, 3/11, 2/11, 1/11, 1/11, 0/11, 0/11, 0/11, 0/11])\n",
    "states = np.arange(0, len(probs))\n",
    "\n",
    "plt.scatter(states, probs, marker='x', label='Given Probabilities')\n",
    "\n",
    "states = np.arange(0, 20+1)\n",
    "\n",
    "# Adding the Fermi distribution\n",
    "E = states  # Using state values as energy levels for simplicity\n",
    "fermi_probs = 1 / (np.exp((E - mu) / kT) + 1)\n",
    "\n",
    "plt.plot(states, fermi_probs, label='Fermi Distribution', color='r')\n",
    "\n",
    "# Setting labels and limits\n",
    "plt.xlabel('State')\n",
    "plt.ylabel('Probability')\n",
    "plt.ylim(0, 1)\n",
    "plt.xlim(xmin=0)\n",
    "plt.legend()\n",
    "plt.show()"
   ],
   "id": "527e0c625a9f7c74",
   "outputs": [
    {
     "data": {
      "text/plain": [
       "<Figure size 640x480 with 1 Axes>"
      ],
     },
     "metadata": {},
     "output_type": "display_data"
    }
   ],
  }
 ],
 "metadata": {
  "kernelspec": {
   "display_name": "Python 3",
   "language": "python",
   "name": "python3"
  },
  "language_info": {
   "codemirror_mode": {
    "name": "ipython",
    "version": 2
   },
   "file_extension": ".py",
   "mimetype": "text/x-python",
   "name": "python",
   "nbconvert_exporter": "python",
   "pygments_lexer": "ipython2",
   "version": "2.7.6"
  }
 },
 "nbformat": 4,
 "nbformat_minor": 5
}
